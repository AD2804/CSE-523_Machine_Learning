{
  "nbformat": 4,
  "nbformat_minor": 0,
  "metadata": {
    "colab": {
      "provenance": []
    },
    "kernelspec": {
      "name": "python3",
      "display_name": "Python 3"
    },
    "language_info": {
      "name": "python"
    }
  },
  "cells": [
    {
      "cell_type": "code",
      "execution_count": 4,
      "metadata": {
        "colab": {
          "base_uri": "https://localhost:8080/"
        },
        "id": "3OGmiWn3gAJf",
        "outputId": "2f0430ac-d6c5-431c-c59b-c507d68c9b50"
      },
      "outputs": [
        {
          "output_type": "stream",
          "name": "stdout",
          "text": [
            "Imputation successful: No missing values remain.\n"
          ]
        }
      ],
      "source": [
        "#Importing relevant packages\n",
        "import pandas as pd\n",
        "from sklearn.linear_model import LinearRegression\n",
        "from sklearn.impute import SimpleImputer\n",
        "\n",
        "# Loading the dataset\n",
        "df = pd.read_csv(\"/content/original_data_season2.csv\")\n",
        "\n",
        "# Defining the columns to impute in the dataset\n",
        "columns_to_impute = ['RHR', 'HRV', 'Recovery', 'Sleep.Score', 'Hours.in.Bed',\n",
        "       'Hours.of.Sleep', 'Sleep.Need', 'Sleep.Efficiency....', 'Wake.Periods',\n",
        "       'Sleep.Disturbances', 'Latency..min.', 'Cycles', 'REM.Sleep..hours.',\n",
        "       'Deep.Sleep..hours.', 'Light.Sleep..hours.', 'Awake..hours.',\n",
        "       'Sleep.Debt..hours.', 'Sleep.Consistency', 'Respiratory.Rate',\n",
        "       'Total.Cycle.Sleep.Time..hours.', 'REM.Percentage',\n",
        "       'Deep.Sleep.Percentage', 'Restorative.Sleep..hours.',\n",
        "       'Restorative.Sleep....', 'PPC', 'MPC', 'EB', 'OR', 'MS', 'LA', 'NES',\n",
        "       'OS', 'Body.Weight..kg.', 'Peak.Power.Mean', 'Peak.Power.SD',\n",
        "       'Peak.Power.CoV', 'Peak.Power.BM.Mean', 'Peak.Power.BM.SD',\n",
        "       'Peak.Power.BM.CoV', 'RSI.Mean', 'RSI.SD', 'RSI.CoV',\n",
        "       'Jump.Height.Mean', 'Jump.Height.SD', 'Jump.Height.CoV',\n",
        "       'Week.Trimp.Total', 'Daily.Average', 'Weekly.SD', 'Monotony', 'Strain',\n",
        "       'RT.Volume.Load', 'HR.min..bpm.', 'HR.avg..bpm.', 'HR.max..bpm.',\n",
        "       'HR.min....', 'HR.avg....', 'HR.max....', 'Distance...min..m.min.',\n",
        "       'Maximum.speed..km.h.', 'Average.speed..km.h.', 'Sprints',\n",
        "       'Distance.in.Speed.zone.1..m...1.00...4.99.km.h.',\n",
        "       'Distance.in.Speed.zone.2..m...5.00...6.99.km.h.',\n",
        "       'Distance.in.Speed.zone.3..m...7.00...10.99.km.h.',\n",
        "       'Distance.in.Speed.zone.4..m...11.00...14.99.km.h.',\n",
        "       'Distance.in.Speed.zone.5..m...15.00..km.h.',\n",
        "       'Number.of.accelerations...50.00....3.00.m.s².',\n",
        "       'Number.of.accelerations...2.99....2.00.m.s².',\n",
        "       'Number.of.accelerations...1.99....1.00.m.s².',\n",
        "       'Number.of.accelerations...0.99....0.50.m.s².',\n",
        "       'Number.of.accelerations..0.50...0.99.m.s².',\n",
        "       'Number.of.accelerations..1.00...1.99.m.s².',\n",
        "       'Number.of.accelerations..2.00...2.99.m.s².',\n",
        "       'Number.of.accelerations..3.00...50.00.m.s².', 'Calories..kcal.',\n",
        "       'Training.load.score', 'Cardio.load', 'Recovery.time..h.']\n",
        "\n",
        "# Imputing using regression for specified columns\n",
        "for column in columns_to_impute:\n",
        "    missing_data = df[df[column].isnull()]\n",
        "    complete_data = df.dropna(subset=[column])\n",
        "\n",
        "    # Separating features and target\n",
        "    X_complete = complete_data.drop(columns=[column])\n",
        "    y_complete = complete_data[column]\n",
        "    X_missing = missing_data.drop(columns=[column])\n",
        "\n",
        "    # Imputing missing values\n",
        "    imputer = SimpleImputer(strategy='mean')\n",
        "    X_complete_imputed = imputer.fit_transform(X_complete)\n",
        "    X_missing_imputed = imputer.transform(X_missing)\n",
        "\n",
        "    # Fitting the linear regression model\n",
        "    model = LinearRegression()\n",
        "    model.fit(X_complete_imputed, y_complete)\n",
        "\n",
        "    # Predicting missing values\n",
        "    predicted_values = model.predict(X_missing_imputed)\n",
        "    df.loc[df[column].isnull(), column] = predicted_values\n",
        "\n",
        "# Saving the imputed dataset in csv file\n",
        "df.to_csv(\"perfect_regression_imputation_all_columns.csv\", index=False)\n",
        "\n",
        "# Checking if any missing values remain after performing imputation\n",
        "missing_values_after_imputation = df.isnull().sum().sum()\n",
        "\n",
        "if missing_values_after_imputation == 0:\n",
        "    print(\"Imputation successful: No missing values remain.\")\n",
        "else:\n",
        "    print(f\"Imputation failed: {missing_values_after_imputation} missing values remain.\")"
      ]
    }
  ]
}